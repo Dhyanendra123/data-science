{
 "cells": [
  {
   "cell_type": "markdown",
   "id": "1635204a-8343-4f5f-8753-f2afa39a0b14",
   "metadata": {},
   "source": [
    "#Data Science Tools and Ecosystem"
   ]
  },
  {
   "cell_type": "markdown",
   "id": "d3d9e063-0c89-4985-8c65-ac5a1a2d0f69",
   "metadata": {},
   "source": [
    "In this notebook, Data Science Tools and Ecosystem are summarized."
   ]
  },
  {
   "cell_type": "markdown",
   "id": "46b2bc5b-6081-4610-8333-cb45960862e5",
   "metadata": {},
   "source": [
    "Some of the popular languages that Data Scientists use are:"
   ]
  },
  {
   "cell_type": "markdown",
   "id": "ada86e6b-bc3b-4168-9b98-80068b156e2f",
   "metadata": {},
   "source": [
    "1.python\n",
    "2.c++\n",
    "3.java"
   ]
  },
  {
   "cell_type": "markdown",
   "id": "59279e11-6645-45b5-b548-927af42a9bbd",
   "metadata": {},
   "source": [
    "_Objectives:_"
   ]
  },
  {
   "cell_type": "markdown",
   "id": "91091e2b-9781-4c22-ba38-7192221547d1",
   "metadata": {},
   "source": [
    "* Julia\n",
    "* Scala\n",
    "* SQl\n",
    "* MATLAB"
   ]
  },
  {
   "cell_type": "markdown",
   "id": "040f8a7f-6ede-4b94-923c-74eddcb06319",
   "metadata": {},
   "source": [
    "1.numpy\n",
    "2.scifi\n",
    "3.pandas"
   ]
  },
  {
   "cell_type": "markdown",
   "id": "814f5f56-31d4-4fa9-86e3-0a9bb1579593",
   "metadata": {},
   "source": [
    "Some of the commonly used libraries used by Data Scientists include:"
   ]
  },
  {
   "cell_type": "markdown",
   "id": "790c5ee4-572d-4ca0-ab5c-9f06c45b28e4",
   "metadata": {
    "editable": true,
    "slideshow": {
     "slide_type": "subslide"
    },
    "tags": [
     "table"
    ]
   },
   "source": [
    "##Data Science Tools\n",
    "|----|\n",
    "| python |\n",
    "| Sql |\n",
    "| R language |\n"
   ]
  },
  {
   "cell_type": "markdown",
   "id": "edce7d01-9da1-4fbf-8ab3-9b540357f6b9",
   "metadata": {},
   "source": [
    "###Below are a few examples of evaluating arithmetic expressions in Python"
   ]
  },
  {
   "cell_type": "markdown",
   "id": "60c5df72-6ede-4adf-b761-8ce5ad14e491",
   "metadata": {},
   "source": [
    "# This a simple arithmetic expression to mutiply then add integers."
   ]
  },
  {
   "cell_type": "code",
   "execution_count": 15,
   "id": "72906d40-163b-49b9-a8a7-e3b1d1492f96",
   "metadata": {},
   "outputs": [
    {
     "data": {
      "text/plain": [
       "17"
      ]
     },
     "execution_count": 15,
     "metadata": {},
     "output_type": "execute_result"
    }
   ],
   "source": [
    "(3*4)+5"
   ]
  },
  {
   "cell_type": "markdown",
   "id": "06c40d23-77ea-44f9-9957-dcb0af4f038b",
   "metadata": {},
   "source": [
    "# This will convert 200 minutes to hours by diving by 60."
   ]
  },
  {
   "cell_type": "code",
   "execution_count": 10,
   "id": "23a8b0c7-fe01-410b-aaa6-8fa903da5e5c",
   "metadata": {},
   "outputs": [
    {
     "data": {
      "text/plain": [
       "3.3333333333333335"
      ]
     },
     "execution_count": 10,
     "metadata": {},
     "output_type": "execute_result"
    }
   ],
   "source": [
    "200/60"
   ]
  },
  {
   "cell_type": "markdown",
   "id": "d9c817a9-2015-4e6c-811b-03bf733f0e38",
   "metadata": {},
   "source": [
    "## Author"
   ]
  },
  {
   "cell_type": "markdown",
   "id": "540e7aed-2a32-44b5-8a7a-16fa1aeda673",
   "metadata": {},
   "source": [
    "Lakshmi Holla\n",
    "\n",
    "Niveditha Pandith"
   ]
  }
 ],
 "metadata": {
  "kernelspec": {
   "display_name": "Python 3 (ipykernel)",
   "language": "python",
   "name": "python3"
  },
  "language_info": {
   "codemirror_mode": {
    "name": "ipython",
    "version": 3
   },
   "file_extension": ".py",
   "mimetype": "text/x-python",
   "name": "python",
   "nbconvert_exporter": "python",
   "pygments_lexer": "ipython3",
   "version": "3.12.8"
  },
  "toc": {
   "base_numbering": 1
  }
 },
 "nbformat": 4,
 "nbformat_minor": 5
}
